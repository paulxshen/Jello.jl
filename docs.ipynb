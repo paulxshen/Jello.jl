{
 "cells": [
  {
   "cell_type": "code",
   "execution_count": 1,
   "metadata": {},
   "outputs": [],
   "source": [
    "using Random, Jello, CairoMakie\n",
    "\n",
    "Random.seed!(1)\n",
    "l = 100\n",
    "lvoid = 6\n",
    "lsolid = 6\n",
    "init = nothing\n",
    "m = Blob(l, l; init, lvoid, lsolid)\n",
    "# m = gpu(m)\n",
    "sharpness = 0.99\n",
    "a = m(sharpness)\n",
    "\n",
    "fig = Figure()\n",
    "grid = fig[1, 1]\n",
    "ax, plt = heatmap(grid[1, 1], m())\n",
    "Colorbar(grid[1, 2], plt)\n",
    "display(fig)"
   ]
  },
  {
   "cell_type": "markdown",
   "metadata": {},
   "source": []
  }
 ],
 "metadata": {
  "kernelspec": {
   "display_name": "Julia 1.10.5",
   "language": "julia",
   "name": "julia-1.10"
  },
  "language_info": {
   "file_extension": ".jl",
   "mimetype": "application/julia",
   "name": "julia",
   "version": "1.10.5"
  }
 },
 "nbformat": 4,
 "nbformat_minor": 4
}
