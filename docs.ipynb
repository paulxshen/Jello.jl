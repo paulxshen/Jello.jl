{
 "cells": [
  {
   "cell_type": "code",
   "execution_count": null,
   "metadata": {},
   "outputs": [],
   "source": [
    "using Random, Jello, CairoMakie\n",
    "\n",
    "Random.seed!(1)\n",
    "l = 100\n",
    "sharpness =.99\n",
    "lvoid = 10\n",
    "lsolid = 6\n",
    "init = nothing\n",
    "m = Blob(l, l;sharpness , init, lvoid,lsolid)\n",
    "# m = gpu(m)\n",
    "\n",
    "fig = Figure()\n",
    "grid = fig[1, 1]\n",
    "ax, plt = heatmap(grid[1, 1], m())\n",
    "Colorbar(grid[1, 2], plt)\n",
    "display(fig)"
   ]
  }
 ],
 "metadata": {
  "kernelspec": {
   "display_name": "Julia 1.10.4",
   "language": "julia",
   "name": "julia-1.10"
  },
  "language_info": {
   "file_extension": ".jl",
   "mimetype": "application/julia",
   "name": "julia",
   "version": "1.10.4"
  }
 },
 "nbformat": 4,
 "nbformat_minor": 2
}
